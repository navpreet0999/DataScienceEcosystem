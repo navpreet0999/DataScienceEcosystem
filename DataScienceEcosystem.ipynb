{
 "cells": [
  {
   "cell_type": "markdown",
   "id": "27512114-7f8e-44d4-a836-c9109ad8159b",
   "metadata": {},
   "source": [
    "# Data ScienceTools and Ecosystems"
   ]
  },
  {
   "cell_type": "markdown",
   "id": "cdd76d8d-2f52-48cc-a8d1-be937e728d62",
   "metadata": {},
   "source": [
    "In this notebook, Data Science Tools and Ecosystem are summarized."
   ]
  },
  {
   "cell_type": "markdown",
   "id": "84c1f1f0-18e2-4469-8553-03404ff1efe2",
   "metadata": {},
   "source": [
    "**Objectives:**\n",
    "- Listing some of the popular Data Science Languages\n",
    "- Listing some of the commonly used Data Science Libraries\n",
    "- Demonstrating the creation of tables in markdown\n",
    "- Evaluating some arithematic expressions usig python\n",
    "- Demonstrating comments in notebook"
   ]
  },
  {
   "cell_type": "markdown",
   "id": "66c929f0-e8df-43f9-9399-e8041456c49d",
   "metadata": {},
   "source": [
    "*Some of the popular languages that Data Scientists use are:*\n",
    "\n",
    "1. Python\n",
    "2. R\n",
    "3. Java\n",
    "4. Scala"
   ]
  },
  {
   "cell_type": "markdown",
   "id": "d61d1ae8-360b-4c1a-a227-fe9fd60895fd",
   "metadata": {},
   "source": [
    "*Some of the commonly used libraries used by Data Scientists include:*\n",
    "\n",
    "1. Pandas\n",
    "2. NumPy\n",
    "3. Scikit-learn\n",
    "4. Matplotlib"
   ]
  },
  {
   "cell_type": "markdown",
   "id": "1cebb982-de40-4e34-8144-35847f59a191",
   "metadata": {},
   "source": [
    "| Data Science Tools |\n",
    "|--------------------|\n",
    "| Jupyter Notebook|\n",
    "| Tensorflow |\n",
    "| Apache spark |\n",
    "| KNIME |"
   ]
  },
  {
   "cell_type": "markdown",
   "id": "ffeb7dd6-390e-482f-9854-eee5a0499c27",
   "metadata": {},
   "source": [
    "### Below are a few examples of evaluating arithmetic expressions in Python"
   ]
  },
  {
   "cell_type": "code",
   "execution_count": 4,
   "id": "51370469-ee0e-4ead-9525-63b233a49eb5",
   "metadata": {},
   "outputs": [
    {
     "data": {
      "text/plain": [
       "17"
      ]
     },
     "execution_count": 4,
     "metadata": {},
     "output_type": "execute_result"
    }
   ],
   "source": [
    "# This a simple arithmetic expression to mutiply then add integers\n",
    "(3*4)+5"
   ]
  },
  {
   "cell_type": "code",
   "execution_count": 6,
   "id": "37078816-39cf-4325-80da-8cda8419f12c",
   "metadata": {},
   "outputs": [
    {
     "name": "stdout",
     "output_type": "stream",
     "text": [
      "in hours -  3  :  20\n"
     ]
    }
   ],
   "source": [
    "# This will convert 200 minutes to hours by diving by 60\n",
    "\n",
    "print(\"in hours - \",int(200/60), \" : \", 200%60)"
   ]
  },
  {
   "cell_type": "markdown",
   "id": "1274c086-d0ea-4c81-a92c-944333bb50f4",
   "metadata": {},
   "source": [
    "### Author\n",
    "Navpreet Singh"
   ]
  },
  {
   "cell_type": "code",
   "execution_count": null,
   "id": "c7ca4ccf-1131-42f2-af51-6ec0cecc87fa",
   "metadata": {},
   "outputs": [],
   "source": []
  }
 ],
 "metadata": {
  "kernelspec": {
   "display_name": "Python 3 (ipykernel)",
   "language": "python",
   "name": "python3"
  },
  "language_info": {
   "codemirror_mode": {
    "name": "ipython",
    "version": 3
   },
   "file_extension": ".py",
   "mimetype": "text/x-python",
   "name": "python",
   "nbconvert_exporter": "python",
   "pygments_lexer": "ipython3",
   "version": "3.10.9"
  }
 },
 "nbformat": 4,
 "nbformat_minor": 5
}
